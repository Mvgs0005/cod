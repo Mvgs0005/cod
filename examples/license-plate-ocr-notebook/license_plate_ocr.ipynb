{
  "cells": [
    {
      "cell_type": "markdown",
      "metadata": {
        "id": "view-in-github",
        "colab_type": "text"
      },
      "source": [
        "<a href=\"https://colab.research.google.com/github/Mvgs0005/cod/blob/main/examples/license-plate-ocr-notebook/license_plate_ocr.ipynb\" target=\"_parent\"><img src=\"https://colab.research.google.com/assets/colab-badge.svg\" alt=\"Open In Colab\"/></a>"
      ]
    },
    {
      "cell_type": "markdown",
      "metadata": {
        "id": "MH-jeMWosprx"
      },
      "source": [
        "# License Plate Detection and OCR Processing\n",
        "\n",
        "\n"
      ]
    },
    {
      "cell_type": "markdown",
      "metadata": {
        "id": "nYUFXFuesptP"
      },
      "source": [
        "## Installation and Setup\n",
        "\n"
      ]
    },
    {
      "cell_type": "code",
      "execution_count": null,
      "metadata": {
        "scrolled": true,
        "id": "I-LxmAPFsptQ"
      },
      "outputs": [],
      "source": [
        "!pip install landingai gdown\n",
        "\n",
        "!gdown \"https://drive.google.com/uc?id=16iwE7mcz9zHqKCw2ilx0QEwSCjDdXEW4\" -O /tmp/license-plates.mov"
      ]
    },
    {
      "cell_type": "markdown",
      "metadata": {
        "id": "ycv3vrNHsptU"
      },
      "source": [
        "<a name=\"frame-extraction\"></a>\n",
        "## Frame Extraction\n",
        "\n",
        "\n"
      ]
    },
    {
      "cell_type": "code",
      "execution_count": null,
      "metadata": {
        "id": "LWdSOJeFsptU"
      },
      "outputs": [],
      "source": [
        "from IPython.display import Video\n",
        "Video(\"https://drive.google.com/uc?export=view&id=16iwE7mcz9zHqKCw2ilx0QEwSCjDdXEW4\", width=512)"
      ]
    },
    {
      "cell_type": "code",
      "execution_count": null,
      "metadata": {
        "id": "AHaNruKOsptV"
      },
      "outputs": [],
      "source": [
        "from landingai.pipeline.image_source import VideoFile\n",
        "\n",
        "# Replace 'path_to_video_file' with the actual path to your video file\n",
        "# video_file_path = '/Users/whit_blodgett/Desktop/Code/landing-apps-poc/license_plate_ocr_app/IMG_2464.MOV'\n",
        "video_file_path = \"/tmp/license-plates.mov\"\n",
        "\n",
        "video_source = VideoFile(video_file_path, samples_per_second=1)\n",
        "frames = [f.image for f in video_source]\n",
        "print(f\"Extracted {len(frames)} frames from the above video\")"
      ]
    },
    {
      "cell_type": "markdown",
      "metadata": {
        "id": "F9Uc9vh4sptX"
      },
      "source": [
        "<a name=\"license-plate-detection\"></a>\n",
        "\n",
        "## License Plate Detection\n"
      ]
    },
    {
      "cell_type": "code",
      "execution_count": null,
      "metadata": {
        "scrolled": true,
        "id": "gA_u2wdAsptY"
      },
      "outputs": [],
      "source": [
        "from landingai.predict import Predictor\n",
        "from landingai import visualize\n",
        "\n",
        "\n",
        "def detect_license_plates(frames):\n",
        "    bounding_boxes = []\n",
        "    overlayed_frames = []\n",
        "    api_key = \"land_sk_aMemWbpd41yXnQ0tXvZMh59ISgRuKNRKjJEIUHnkiH32NBJAwf\"\n",
        "    model_endpoint = \"e001c156-5de0-43f3-9991-f19699b31202\"\n",
        "    predictor = Predictor(model_endpoint, api_key=api_key)\n",
        "\n",
        "    for frame in frames:\n",
        "        prediction = predictor.predict(frame)\n",
        "        # store predictions in a list\n",
        "        overlay = visualize.overlay_predictions(prediction, frame)\n",
        "        bounding_boxes.append(prediction)\n",
        "        overlayed_frames.append(overlay)\n",
        "\n",
        "    return bounding_boxes, overlayed_frames\n",
        "\n",
        "bounding_boxes, overlayed_frames = detect_license_plates(frames)\n",
        "\n",
        "# show 5 overlayed frames\n",
        "for i, frame in enumerate(overlayed_frames):\n",
        "    if len(bounding_boxes[i]) == 0:\n",
        "        continue\n",
        "    display(frame)"
      ]
    },
    {
      "cell_type": "markdown",
      "metadata": {
        "id": "wROjFqbEsptZ"
      },
      "source": [
        "<a name=\"image-cropping\"></a>\n",
        "\n",
        "## Image Cropping\n"
      ]
    },
    {
      "cell_type": "code",
      "execution_count": null,
      "metadata": {
        "id": "ZsH5tKqKspta"
      },
      "outputs": [],
      "source": [
        "from landingai.postprocess import crop\n",
        "\n",
        "# cropping the license plate\n",
        "cropped_imgs = []\n",
        "for frame, bboxes in zip(frames, bounding_boxes):\n",
        "    cropped_imgs.append(crop(bboxes, frame))\n",
        "\n",
        "print(len(cropped_imgs))\n",
        "# show 5 overlayed frames\n",
        "for i, cropped in enumerate(cropped_imgs):\n",
        "    if len(cropped) == 0:\n",
        "        continue\n",
        "    for plate in cropped:\n",
        "        display(plate)"
      ]
    },
    {
      "cell_type": "markdown",
      "metadata": {
        "id": "R8k8Y19Espta"
      },
      "source": [
        "<a name=\"ocr-and-data-retrieval\"></a>\n",
        "\n"
      ]
    },
    {
      "cell_type": "code",
      "execution_count": null,
      "metadata": {
        "id": "iogwAt40sptb"
      },
      "outputs": [],
      "source": [
        "from landingai.predict import OcrPredictor\n",
        "\n",
        "# NOTE: The API key below has a rate limit. Use an API key from your own LandingLens account for production use.\n",
        "API_KEY = \"land_sk_WVYwP00xA3iXely2vuar6YUDZ3MJT9yLX6oW5noUkwICzYLiDV\"\n",
        "ocr_predictor = OcrPredictor(api_key=API_KEY)\n",
        "\n",
        "ocr_preds = []\n",
        "overlayed_ocr = []\n",
        "print(cropped_imgs[0])\n",
        "for frame in cropped_imgs:\n",
        "    for plate in frame:\n",
        "        ocr_pred = ocr_predictor.predict(plate)\n",
        "        ocr_preds.append(ocr_pred)\n",
        "        overlay = visualize.overlay_predictions(ocr_pred, plate)\n",
        "        overlayed_ocr.append(overlay)\n",
        "print(ocr_preds)\n",
        "for frame, ocr_pred in zip(overlayed_ocr, ocr_preds):\n",
        "    if len(ocr_pred) == 0:\n",
        "        continue\n",
        "    display(frame)\n",
        "    for text in ocr_pred:\n",
        "        print(text.text)"
      ]
    },
    {
      "cell_type": "markdown",
      "metadata": {
        "id": "xmBf-6Oasptb"
      },
      "source": []
    }
  ],
  "metadata": {
    "kernelspec": {
      "display_name": "Python 3 (ipykernel)",
      "language": "python",
      "name": "python3"
    },
    "language_info": {
      "codemirror_mode": {
        "name": "ipython",
        "version": 3
      },
      "file_extension": ".py",
      "mimetype": "text/x-python",
      "name": "python",
      "nbconvert_exporter": "python",
      "pygments_lexer": "ipython3",
      "version": "3.10.0"
    },
    "colab": {
      "provenance": [],
      "include_colab_link": true
    }
  },
  "nbformat": 4,
  "nbformat_minor": 0
}